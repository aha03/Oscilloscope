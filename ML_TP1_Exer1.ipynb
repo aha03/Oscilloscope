{
  "nbformat": 4,
  "nbformat_minor": 0,
  "metadata": {
    "colab": {
      "name": "ML_TP1_Exer1.ipynb",
      "provenance": [],
      "collapsed_sections": [],
      "toc_visible": true,
      "include_colab_link": true
    },
    "kernelspec": {
      "display_name": "Python 3",
      "language": "python",
      "name": "python3"
    },
    "language_info": {
      "codemirror_mode": {
        "name": "ipython",
        "version": 3
      },
      "file_extension": ".py",
      "mimetype": "text/x-python",
      "name": "python",
      "nbconvert_exporter": "python",
      "pygments_lexer": "ipython3",
      "version": "3.7.4"
    }
  },
  "cells": [
    {
      "cell_type": "markdown",
      "metadata": {
        "id": "view-in-github",
        "colab_type": "text"
      },
      "source": [
        "<a href=\"https://colab.research.google.com/github/aha03/Oscilloscope/blob/master/ML_TP1_Exer1.ipynb\" target=\"_parent\"><img src=\"https://colab.research.google.com/assets/colab-badge.svg\" alt=\"Open In Colab\"/></a>"
      ]
    },
    {
      "cell_type": "markdown",
      "metadata": {
        "id": "DM4T0BF73G3X"
      },
      "source": [
        "# ML Exercise 1 - Linear Regression"
      ]
    },
    {
      "cell_type": "markdown",
      "metadata": {
        "id": "PkdPHl7-TFhb"
      },
      "source": [
        "To help you start with Python and NumPy, there is a great tutorial online,\n",
        "created at Stanford. It can be downloaded as a notebook at https://github.com/kuleshov/cs228-material/tree/master/tutorials/python. Note that this tutorial is written in Python 2.7.\n",
        "\n",
        "\n",
        "<font color='red'> PLEASE DO NOT HESITATE to include your remarks/comments (in colors of your choice) in the notebook. That will be considered as a short report.</font>"
      ]
    },
    {
      "cell_type": "code",
      "metadata": {
        "colab": {
          "base_uri": "https://localhost:8080/"
        },
        "id": "vW4NrO8jm-ix",
        "outputId": "86427063-c8ee-4b1b-8ee3-cab6c11b9c56"
      },
      "source": [
        "# Change here using your first and last names\n",
        "fn1 = \"peiru\"\n",
        "ln1 = \"li\"\n",
        "fn2 = \"adam\"\n",
        "ln2 = \"benomar\"\n",
        "\n",
        "filename = \"_\".join(map(lambda s: s.strip().lower(), \n",
        "                        [\"tp1\", ln1, fn1, \"and\", ln2, fn2])) + \".ipynb\"\n",
        "print(filename)"
      ],
      "execution_count": 140,
      "outputs": [
        {
          "output_type": "stream",
          "text": [
            "tp1_li_peiru_and_benomar_adam.ipynb\n"
          ],
          "name": "stdout"
        }
      ]
    },
    {
      "cell_type": "markdown",
      "metadata": {
        "id": "msKcO-O13G3Z"
      },
      "source": [
        "## Part 1: Linear regression with one variable"
      ]
    },
    {
      "cell_type": "markdown",
      "metadata": {
        "id": "bUtsz4p43G3b"
      },
      "source": [
        "You will implement linear regression with one variable to predict profits for a food truck. Suppose you are the CEO of a restaurant franchise and are considering different cities for opening a new outlet. The chain already has trucks in various cities and you have data for profits and populations from the cities."
      ]
    },
    {
      "cell_type": "markdown",
      "metadata": {
        "id": "fUeX3pHu3G3d"
      },
      "source": [
        "# Importe some libraries and examine the data."
      ]
    },
    {
      "cell_type": "code",
      "metadata": {
        "colab": {
          "base_uri": "https://localhost:8080/",
          "height": 584
        },
        "id": "JSokKniiQwfP",
        "outputId": "06bc760e-2d4a-4ec1-b679-77d4f48c7a2e"
      },
      "source": [
        "# Download the data\n",
        "!wget https://www.dropbox.com/s/us61lvxcjnn1n3j/ex1data1.txt?dl=0 \\\n",
        "   -O ex1data1.txt\n",
        "\n",
        "import numpy as np\n",
        "import pandas as pd\n",
        "import matplotlib.pyplot as plt\n",
        "\n",
        "data = pd.read_csv('ex1data1.txt', header=None, names=['Population', 'Profit'])\n",
        "data.head()"
      ],
      "execution_count": 141,
      "outputs": [
        {
          "output_type": "stream",
          "text": [
            "--2021-03-01 10:37:22--  https://www.dropbox.com/s/us61lvxcjnn1n3j/ex1data1.txt?dl=0\n",
            "Resolving www.dropbox.com (www.dropbox.com)... 162.125.5.18, 2620:100:601d:18::a27d:512\n",
            "Connecting to www.dropbox.com (www.dropbox.com)|162.125.5.18|:443... connected.\n",
            "HTTP request sent, awaiting response... 301 Moved Permanently\n",
            "Location: /s/raw/us61lvxcjnn1n3j/ex1data1.txt [following]\n",
            "--2021-03-01 10:37:22--  https://www.dropbox.com/s/raw/us61lvxcjnn1n3j/ex1data1.txt\n",
            "Reusing existing connection to www.dropbox.com:443.\n",
            "HTTP request sent, awaiting response... 302 Found\n",
            "Location: https://uce460cff961346ddcb52295dc50.dl.dropboxusercontent.com/cd/0/inline/BJ1EZnNwlvvLGExAcvO9gnj7J1pjeym7fI0b_xONzX2KnMJSxuzuIJPJbyXqeggrekrzvzklwciAUmL0mOyHxuOIZIyDFrPVAK8LiMV7jOq1ww/file# [following]\n",
            "--2021-03-01 10:37:22--  https://uce460cff961346ddcb52295dc50.dl.dropboxusercontent.com/cd/0/inline/BJ1EZnNwlvvLGExAcvO9gnj7J1pjeym7fI0b_xONzX2KnMJSxuzuIJPJbyXqeggrekrzvzklwciAUmL0mOyHxuOIZIyDFrPVAK8LiMV7jOq1ww/file\n",
            "Resolving uce460cff961346ddcb52295dc50.dl.dropboxusercontent.com (uce460cff961346ddcb52295dc50.dl.dropboxusercontent.com)... 162.125.5.15, 2620:100:601d:15::a27d:50f\n",
            "Connecting to uce460cff961346ddcb52295dc50.dl.dropboxusercontent.com (uce460cff961346ddcb52295dc50.dl.dropboxusercontent.com)|162.125.5.15|:443... connected.\n",
            "HTTP request sent, awaiting response... 200 OK\n",
            "Length: 1359 (1.3K) [text/plain]\n",
            "Saving to: ‘ex1data1.txt’\n",
            "\n",
            "ex1data1.txt        100%[===================>]   1.33K  --.-KB/s    in 0s      \n",
            "\n",
            "2021-03-01 10:37:23 (206 MB/s) - ‘ex1data1.txt’ saved [1359/1359]\n",
            "\n"
          ],
          "name": "stdout"
        },
        {
          "output_type": "execute_result",
          "data": {
            "text/html": [
              "<div>\n",
              "<style scoped>\n",
              "    .dataframe tbody tr th:only-of-type {\n",
              "        vertical-align: middle;\n",
              "    }\n",
              "\n",
              "    .dataframe tbody tr th {\n",
              "        vertical-align: top;\n",
              "    }\n",
              "\n",
              "    .dataframe thead th {\n",
              "        text-align: right;\n",
              "    }\n",
              "</style>\n",
              "<table border=\"1\" class=\"dataframe\">\n",
              "  <thead>\n",
              "    <tr style=\"text-align: right;\">\n",
              "      <th></th>\n",
              "      <th>Population</th>\n",
              "      <th>Profit</th>\n",
              "    </tr>\n",
              "  </thead>\n",
              "  <tbody>\n",
              "    <tr>\n",
              "      <th>0</th>\n",
              "      <td>6.1101</td>\n",
              "      <td>17.5920</td>\n",
              "    </tr>\n",
              "    <tr>\n",
              "      <th>1</th>\n",
              "      <td>5.5277</td>\n",
              "      <td>9.1302</td>\n",
              "    </tr>\n",
              "    <tr>\n",
              "      <th>2</th>\n",
              "      <td>8.5186</td>\n",
              "      <td>13.6620</td>\n",
              "    </tr>\n",
              "    <tr>\n",
              "      <th>3</th>\n",
              "      <td>7.0032</td>\n",
              "      <td>11.8540</td>\n",
              "    </tr>\n",
              "    <tr>\n",
              "      <th>4</th>\n",
              "      <td>5.8598</td>\n",
              "      <td>6.8233</td>\n",
              "    </tr>\n",
              "  </tbody>\n",
              "</table>\n",
              "</div>"
            ],
            "text/plain": [
              "   Population   Profit\n",
              "0      6.1101  17.5920\n",
              "1      5.5277   9.1302\n",
              "2      8.5186  13.6620\n",
              "3      7.0032  11.8540\n",
              "4      5.8598   6.8233"
            ]
          },
          "metadata": {
            "tags": []
          },
          "execution_count": 141
        }
      ]
    },
    {
      "cell_type": "code",
      "metadata": {
        "colab": {
          "base_uri": "https://localhost:8080/",
          "height": 297
        },
        "id": "deapFIiJ3G3l",
        "outputId": "f3bb2390-b286-472b-c507-3f50f19de9d5"
      },
      "source": [
        "data.describe()"
      ],
      "execution_count": 142,
      "outputs": [
        {
          "output_type": "execute_result",
          "data": {
            "text/html": [
              "<div>\n",
              "<style scoped>\n",
              "    .dataframe tbody tr th:only-of-type {\n",
              "        vertical-align: middle;\n",
              "    }\n",
              "\n",
              "    .dataframe tbody tr th {\n",
              "        vertical-align: top;\n",
              "    }\n",
              "\n",
              "    .dataframe thead th {\n",
              "        text-align: right;\n",
              "    }\n",
              "</style>\n",
              "<table border=\"1\" class=\"dataframe\">\n",
              "  <thead>\n",
              "    <tr style=\"text-align: right;\">\n",
              "      <th></th>\n",
              "      <th>Population</th>\n",
              "      <th>Profit</th>\n",
              "    </tr>\n",
              "  </thead>\n",
              "  <tbody>\n",
              "    <tr>\n",
              "      <th>count</th>\n",
              "      <td>97.000000</td>\n",
              "      <td>97.000000</td>\n",
              "    </tr>\n",
              "    <tr>\n",
              "      <th>mean</th>\n",
              "      <td>8.159800</td>\n",
              "      <td>5.839135</td>\n",
              "    </tr>\n",
              "    <tr>\n",
              "      <th>std</th>\n",
              "      <td>3.869884</td>\n",
              "      <td>5.510262</td>\n",
              "    </tr>\n",
              "    <tr>\n",
              "      <th>min</th>\n",
              "      <td>5.026900</td>\n",
              "      <td>-2.680700</td>\n",
              "    </tr>\n",
              "    <tr>\n",
              "      <th>25%</th>\n",
              "      <td>5.707700</td>\n",
              "      <td>1.986900</td>\n",
              "    </tr>\n",
              "    <tr>\n",
              "      <th>50%</th>\n",
              "      <td>6.589400</td>\n",
              "      <td>4.562300</td>\n",
              "    </tr>\n",
              "    <tr>\n",
              "      <th>75%</th>\n",
              "      <td>8.578100</td>\n",
              "      <td>7.046700</td>\n",
              "    </tr>\n",
              "    <tr>\n",
              "      <th>max</th>\n",
              "      <td>22.203000</td>\n",
              "      <td>24.147000</td>\n",
              "    </tr>\n",
              "  </tbody>\n",
              "</table>\n",
              "</div>"
            ],
            "text/plain": [
              "       Population     Profit\n",
              "count   97.000000  97.000000\n",
              "mean     8.159800   5.839135\n",
              "std      3.869884   5.510262\n",
              "min      5.026900  -2.680700\n",
              "25%      5.707700   1.986900\n",
              "50%      6.589400   4.562300\n",
              "75%      8.578100   7.046700\n",
              "max     22.203000  24.147000"
            ]
          },
          "metadata": {
            "tags": []
          },
          "execution_count": 142
        }
      ]
    },
    {
      "cell_type": "markdown",
      "metadata": {
        "id": "pp8EElw73G3o"
      },
      "source": [
        "#Plot it to get a better idea of what the data looks like."
      ]
    },
    {
      "cell_type": "code",
      "metadata": {
        "colab": {
          "base_uri": "https://localhost:8080/",
          "height": 624
        },
        "id": "wmrzpzN53G3p",
        "outputId": "b1ef7b10-eb93-42e8-bd93-f30cd3923ad0"
      },
      "source": [
        "data.plot(kind='scatter', x='Population', y='Profit', figsize=(15,10))\n",
        "\n",
        "#data.T.plot.scatter(x = 'Population', y = 'Profit')"
      ],
      "execution_count": 143,
      "outputs": [
        {
          "output_type": "execute_result",
          "data": {
            "text/plain": [
              "<matplotlib.axes._subplots.AxesSubplot at 0x7f6bd934cc50>"
            ]
          },
          "metadata": {
            "tags": []
          },
          "execution_count": 143
        },
        {
          "output_type": "display_data",
          "data": {
            "image/png": "[encoded data removed]",
            "text/plain": [
              "<Figure size 1080x720 with 1 Axes>"
            ]
          },
          "metadata": {
            "tags": [],
            "needs_background": "light"
          }
        }
      ]
    },
    {
      "cell_type": "markdown",
      "metadata": {
        "id": "tXhCmRYV1cgU"
      },
      "source": [
        "#Goal: fit the linear regression parameters $\\mathbf{w}$ to your dataset using gradient descent. "
      ]
    },
    {
      "cell_type": "code",
      "metadata": {
        "colab": {
          "base_uri": "https://localhost:8080/"
        },
        "id": "JvBr_gMJ3AYl",
        "outputId": "f077b2ae-48ae-4f58-adf0-d22fd6398fbd"
      },
      "source": [
        "data.count()"
      ],
      "execution_count": 144,
      "outputs": [
        {
          "output_type": "execute_result",
          "data": {
            "text/plain": [
              "Population    97\n",
              "Profit        97\n",
              "dtype: int64"
            ]
          },
          "metadata": {
            "tags": []
          },
          "execution_count": 144
        }
      ]
    },
    {
      "cell_type": "markdown",
      "metadata": {
        "id": "sxzpa0Jw3G3r"
      },
      "source": [
        "You suppose that your relation between your data $x$ and target $t$ can be modeled by a linear mode \n",
        "\n",
        "$y(x,\\mathbf{w})= w_0+w_1x$ \\\\\n",
        "The objective of linear regression is to minimize the cost function:\n",
        "\n",
        "$E(\\mathbf{w})=\\displaystyle \\frac{1}{2N} \\sum_{n=1}^{N} \\{y(x_n,\\mathbf{w})-t_n\\}^2 $ \\\\\n",
        "\n",
        "\n",
        "\n",
        "$N$ is the number of samples in the data set.\n",
        "\n",
        "\n",
        "<font color='red'> Question: in this dataset, $N=97$ </font> \n",
        "\n",
        "\n",
        "\n",
        "Your model parameters are the $w_j$ values which you will adjust to minimize cost $E(\\mathbf{w})$. \n",
        "One solution is the batch gradient descent algorithm. In batch gradient descent,each iteration performs the update:\n",
        "\n",
        "$\\mathbf{w}=\\displaystyle \\mathbf{w} - \\eta \\frac{1}{N} \\sum_{n=1}^{N} \\{y(x_n,\\mathbf{w})-t_n\\}x_n$\n",
        "\n",
        "With each step of gradient descent, your parameters $w_j$ come closer to the optimal values that will achieve the lowest cost $E(\\mathbf{w})$.\n",
        "\n",
        "<font color='red'> Question: how many parameters $w$ do you have to find for this dataset. </font> \n",
        "\n",
        "<font color='blue'> Reponse: On a besoin de 2 $W$ ($w_1$,$w_0$). </font>\n",
        " \n",
        "\n",
        "<font color='red'>TODO: Create a function to compute the cost of a given solution (characterized by the parameters w). </font> \n",
        "Functions like power, sum of numpy may be useful."
      ]
    },
    {
      "cell_type": "markdown",
      "metadata": {
        "id": "Y0HvsDvo2pEY"
      },
      "source": [
        "#Important notes for implementation in Numpy\n",
        "\n",
        "For array, * means element-wise multiplication, and the dot() function is used for matrix multiplication.\n",
        "\n",
        "\n",
        "For matrix, * means matrix multiplication, and the multiply() function is used for element-wise multiplication.\n",
        "\n",
        "\n",
        "<font color='red'> Maybe in this part (Linear Regression), you should learn to use np.array. In part 2 (Logistic Regression), you learn to use np.matrix </font> "
      ]
    },
    {
      "cell_type": "code",
      "metadata": {
        "id": "Fb6D-5kD3G3s"
      },
      "source": [
        "def computeCost(X, t, w):\n",
        "    #X : input dataset of shape (N x D+1), N: number of examples, D: the number of features. \n",
        "    \n",
        "    #t : target of shape (N, ).\n",
        "    \n",
        "    #w : parameters of shape (D+1, ).\n",
        "    \n",
        "    # Note that if you use np.array, * is elementwise multiplication, unlike Matlab,\n",
        "    # you may need to use it \n",
        "    # then using np.sum...\n",
        "\n",
        "    # you can use np.dot\n",
        "    # WRITE YOU CODE HERE\n",
        "    tmp = np.power(np.dot(X,w)-t, 2)\n",
        "\n",
        "    # In this dataset, X is Population (each data point has only one variable, one feature)\n",
        "    # t is profit \n",
        "    # but for coding this function, you should consider that X is a np.array... \n",
        "    # (array in numpy may have more than one dimension) \n",
        "    ...\n",
        "    return sum(tmp)/(2 * len(X))\n"
      ],
      "execution_count": 145,
      "outputs": []
    },
    {
      "cell_type": "markdown",
      "metadata": {
        "id": "hnjeKrBM3G3t"
      },
      "source": [
        "#Do some data preparation.\n",
        "\n",
        "<font color='red'>TODO: get X (training data) (first column) and t (target variable) (last column) from \"data\". </font>"
      ]
    },
    {
      "cell_type": "code",
      "metadata": {
        "id": "t1x37unp3G3u"
      },
      "source": [
        "# set X (training data) and t (target variable)\n",
        "cols = data.shape[1]\n",
        "X = data.iloc[:,0:1]\n",
        "t = data.iloc[:,1:2]   ##### COMPLETE YOUR CODE HERE#####"
      ],
      "execution_count": 146,
      "outputs": []
    },
    {
      "cell_type": "markdown",
      "metadata": {
        "id": "jr9J96IO3G3v"
      },
      "source": [
        "Take a look to make sure X (training set) and t (target variable) look correct."
      ]
    },
    {
      "cell_type": "code",
      "metadata": {
        "colab": {
          "base_uri": "https://localhost:8080/",
          "height": 204
        },
        "id": "ZyLYXK923G3v",
        "outputId": "0d3e113b-a63e-4ffc-8152-c304fc8b949a"
      },
      "source": [
        "X.head()"
      ],
      "execution_count": 147,
      "outputs": [
        {
          "output_type": "execute_result",
          "data": {
            "text/html": [
              "<div>\n",
              "<style scoped>\n",
              "    .dataframe tbody tr th:only-of-type {\n",
              "        vertical-align: middle;\n",
              "    }\n",
              "\n",
              "    .dataframe tbody tr th {\n",
              "        vertical-align: top;\n",
              "    }\n",
              "\n",
              "    .dataframe thead th {\n",
              "        text-align: right;\n",
              "    }\n",
              "</style>\n",
              "<table border=\"1\" class=\"dataframe\">\n",
              "  <thead>\n",
              "    <tr style=\"text-align: right;\">\n",
              "      <th></th>\n",
              "      <th>Population</th>\n",
              "    </tr>\n",
              "  </thead>\n",
              "  <tbody>\n",
              "    <tr>\n",
              "      <th>0</th>\n",
              "      <td>6.1101</td>\n",
              "    </tr>\n",
              "    <tr>\n",
              "      <th>1</th>\n",
              "      <td>5.5277</td>\n",
              "    </tr>\n",
              "    <tr>\n",
              "      <th>2</th>\n",
              "      <td>8.5186</td>\n",
              "    </tr>\n",
              "    <tr>\n",
              "      <th>3</th>\n",
              "      <td>7.0032</td>\n",
              "    </tr>\n",
              "    <tr>\n",
              "      <th>4</th>\n",
              "      <td>5.8598</td>\n",
              "    </tr>\n",
              "  </tbody>\n",
              "</table>\n",
              "</div>"
            ],
            "text/plain": [
              "   Population\n",
              "0      6.1101\n",
              "1      5.5277\n",
              "2      8.5186\n",
              "3      7.0032\n",
              "4      5.8598"
            ]
          },
          "metadata": {
            "tags": []
          },
          "execution_count": 147
        }
      ]
    },
    {
      "cell_type": "code",
      "metadata": {
        "colab": {
          "base_uri": "https://localhost:8080/",
          "height": 204
        },
        "id": "IVwaPJ393G3x",
        "outputId": "ff08b02a-165a-441c-83c6-3cd86d275551"
      },
      "source": [
        "t.head()"
      ],
      "execution_count": 148,
      "outputs": [
        {
          "output_type": "execute_result",
          "data": {
            "text/html": [
              "<div>\n",
              "<style scoped>\n",
              "    .dataframe tbody tr th:only-of-type {\n",
              "        vertical-align: middle;\n",
              "    }\n",
              "\n",
              "    .dataframe tbody tr th {\n",
              "        vertical-align: top;\n",
              "    }\n",
              "\n",
              "    .dataframe thead th {\n",
              "        text-align: right;\n",
              "    }\n",
              "</style>\n",
              "<table border=\"1\" class=\"dataframe\">\n",
              "  <thead>\n",
              "    <tr style=\"text-align: right;\">\n",
              "      <th></th>\n",
              "      <th>Profit</th>\n",
              "    </tr>\n",
              "  </thead>\n",
              "  <tbody>\n",
              "    <tr>\n",
              "      <th>0</th>\n",
              "      <td>17.5920</td>\n",
              "    </tr>\n",
              "    <tr>\n",
              "      <th>1</th>\n",
              "      <td>9.1302</td>\n",
              "    </tr>\n",
              "    <tr>\n",
              "      <th>2</th>\n",
              "      <td>13.6620</td>\n",
              "    </tr>\n",
              "    <tr>\n",
              "      <th>3</th>\n",
              "      <td>11.8540</td>\n",
              "    </tr>\n",
              "    <tr>\n",
              "      <th>4</th>\n",
              "      <td>6.8233</td>\n",
              "    </tr>\n",
              "  </tbody>\n",
              "</table>\n",
              "</div>"
            ],
            "text/plain": [
              "    Profit\n",
              "0  17.5920\n",
              "1   9.1302\n",
              "2  13.6620\n",
              "3  11.8540\n",
              "4   6.8233"
            ]
          },
          "metadata": {
            "tags": []
          },
          "execution_count": 148
        }
      ]
    },
    {
      "cell_type": "markdown",
      "metadata": {
        "id": "nIDWDEtf3G3y"
      },
      "source": [
        "Let's add a column of ones to the X so we can use a vectorized solution to computing the cost and gradients (use X.insert).\n",
        "\n",
        "<font color='red'>Question: why do you need to do this? (hint: related to $w_0$)</font>\n",
        "\n",
        "<font color='blue'> Reponse: Parce que $W$ est un vecteur ($w_0$,$w_1$), et plus on fait la multiplication entre $W$ et $X$, c'est a dire $y(x,\\mathbf{w})= w_0*1+w_1*x$, alors il nous faut ajouter une colone de $'1'$ </font>"
      ]
    },
    {
      "cell_type": "code",
      "metadata": {
        "colab": {
          "base_uri": "https://localhost:8080/",
          "height": 204
        },
        "id": "fbdXHMkr3G3z",
        "outputId": "fe5293d5-62ee-42d0-bb51-14246c0de729"
      },
      "source": [
        "X.insert(0,'Ones',1)\n",
        "X.head()"
      ],
      "execution_count": 149,
      "outputs": [
        {
          "output_type": "execute_result",
          "data": {
            "text/html": [
              "<div>\n",
              "<style scoped>\n",
              "    .dataframe tbody tr th:only-of-type {\n",
              "        vertical-align: middle;\n",
              "    }\n",
              "\n",
              "    .dataframe tbody tr th {\n",
              "        vertical-align: top;\n",
              "    }\n",
              "\n",
              "    .dataframe thead th {\n",
              "        text-align: right;\n",
              "    }\n",
              "</style>\n",
              "<table border=\"1\" class=\"dataframe\">\n",
              "  <thead>\n",
              "    <tr style=\"text-align: right;\">\n",
              "      <th></th>\n",
              "      <th>Ones</th>\n",
              "      <th>Population</th>\n",
              "    </tr>\n",
              "  </thead>\n",
              "  <tbody>\n",
              "    <tr>\n",
              "      <th>0</th>\n",
              "      <td>1</td>\n",
              "      <td>6.1101</td>\n",
              "    </tr>\n",
              "    <tr>\n",
              "      <th>1</th>\n",
              "      <td>1</td>\n",
              "      <td>5.5277</td>\n",
              "    </tr>\n",
              "    <tr>\n",
              "      <th>2</th>\n",
              "      <td>1</td>\n",
              "      <td>8.5186</td>\n",
              "    </tr>\n",
              "    <tr>\n",
              "      <th>3</th>\n",
              "      <td>1</td>\n",
              "      <td>7.0032</td>\n",
              "    </tr>\n",
              "    <tr>\n",
              "      <th>4</th>\n",
              "      <td>1</td>\n",
              "      <td>5.8598</td>\n",
              "    </tr>\n",
              "  </tbody>\n",
              "</table>\n",
              "</div>"
            ],
            "text/plain": [
              "   Ones  Population\n",
              "0     1      6.1101\n",
              "1     1      5.5277\n",
              "2     1      8.5186\n",
              "3     1      7.0032\n",
              "4     1      5.8598"
            ]
          },
          "metadata": {
            "tags": []
          },
          "execution_count": 149
        }
      ]
    },
    {
      "cell_type": "markdown",
      "metadata": {
        "id": "cF0seuX83G30"
      },
      "source": [
        "The cost function is expecting numpy array (or matrices) so we need to convert X and t before we can use w (use np.array or np.matrix ...). We also need to initialize w (np.zeros). \r\n",
        "\r\n",
        "<font color='red'> Question: explain the shape of w?</font>\r\n",
        "\r\n",
        "<font color='blue'> Reponse: Parce que l'on veut trouver la regression lineaire, alors on doit trouver le coefficient directeur $w_1$ et l'ordonnee a l'origine $w_0$.</front>"
      ]
    },
    {
      "cell_type": "code",
      "metadata": {
        "id": "Ks8DlSv93G31"
      },
      "source": [
        "X = np.array(X.values)\n",
        "t = np.array(t.values)  ##### COMPLETE YOUR CODE HERE#####\n",
        "w = np.zeros((2,1))   ##### COMPLETE YOUR CODE HERE#####"
      ],
      "execution_count": 150,
      "outputs": []
    },
    {
      "cell_type": "markdown",
      "metadata": {
        "id": "hkKFaoNG3G34"
      },
      "source": [
        "Let's take a quick look at the shape of our X,t,w."
      ]
    },
    {
      "cell_type": "code",
      "metadata": {
        "colab": {
          "base_uri": "https://localhost:8080/"
        },
        "id": "Hv0VpHIl3G34",
        "outputId": "3b2a5bf8-2bc3-4048-f39e-ce5cffce4ecc"
      },
      "source": [
        "X.shape, w.shape, t.shape"
      ],
      "execution_count": 151,
      "outputs": [
        {
          "output_type": "execute_result",
          "data": {
            "text/plain": [
              "((97, 2), (2, 1), (97, 1))"
            ]
          },
          "metadata": {
            "tags": []
          },
          "execution_count": 151
        }
      ]
    },
    {
      "cell_type": "markdown",
      "metadata": {
        "id": "IiHELvTd3G35"
      },
      "source": [
        "Now let's compute the cost for our initial solution (0 values for w)."
      ]
    },
    {
      "cell_type": "code",
      "metadata": {
        "colab": {
          "base_uri": "https://localhost:8080/"
        },
        "id": "K1rMZP-y3G36",
        "outputId": "396da7df-8177-48be-c4c1-8ddd1eefc65d"
      },
      "source": [
        "computeCost(X, t, w)"
      ],
      "execution_count": 152,
      "outputs": [
        {
          "output_type": "execute_result",
          "data": {
            "text/plain": [
              "array([32.07273388])"
            ]
          },
          "metadata": {
            "tags": []
          },
          "execution_count": 152
        }
      ]
    },
    {
      "cell_type": "markdown",
      "metadata": {
        "id": "rXXA7wei3G37"
      },
      "source": [
        "Expected result 32.072733877455676. So far so good. \n",
        "\n",
        "#<font color='red'>Exercise: Define a function to perform gradient descent on the parameters w using the update rules defined in the text.</font>\n",
        "\n",
        "\n",
        "\n",
        "\n",
        "\n",
        "Functions like multiply, sum of numpy may be useful."
      ]
    },
    {
      "cell_type": "code",
      "metadata": {
        "id": "NZnD0rJX3G37"
      },
      "source": [
        "def gradientDescent(X, t, w, eta, iters):\n",
        "    # Initialize some useful values\n",
        "    N=len(X);                    # number of training examples\n",
        "    cost = np.zeros(iters);  \n",
        "\n",
        "    # make a copy of theta, to avoid changing the original array, since numpy arrays\n",
        "    # are passed by reference to functions\n",
        "    w = w.copy()\n",
        "    \n",
        "    for i in range(iters):\n",
        "        ##### WRITE YOUR CODE HERE#####\n",
        "        diff = np.dot(X,w) - t;\n",
        "        deriv = np.dot(X.T,diff);\n",
        "        w = w - (eta/N) * deriv;##### COMPLETE YOUR CODE HERE#####\n",
        "\n",
        "        cost[i] = computeCost(X, t, w) # you should stock the cost function for each epoch\n",
        "                                    # this is useful for checking whether the cost reduces...\n",
        "    return w, cost"
      ],
      "execution_count": 153,
      "outputs": []
    },
    {
      "cell_type": "markdown",
      "metadata": {
        "id": "2krBJ0Ge3G38"
      },
      "source": [
        "Initialize some additional variables - the learning rate eta, and the number of iterations to perform."
      ]
    },
    {
      "cell_type": "code",
      "metadata": {
        "id": "p_QM1E893G38"
      },
      "source": [
        "eta = 0.01\n",
        "iters = 1000"
      ],
      "execution_count": 154,
      "outputs": []
    },
    {
      "cell_type": "markdown",
      "metadata": {
        "id": "7skSj_Wk3G39"
      },
      "source": [
        "Now let's run the gradient descent algorithm to fit our parameters eta to the training set."
      ]
    },
    {
      "cell_type": "code",
      "metadata": {
        "colab": {
          "base_uri": "https://localhost:8080/"
        },
        "id": "SsW3spFa3G39",
        "outputId": "4badfbf9-1e76-43d9-c6b6-538c143e9780"
      },
      "source": [
        "w, cost = gradientDescent(X, t, w, eta, iters)\n",
        "w"
      ],
      "execution_count": 155,
      "outputs": [
        {
          "output_type": "execute_result",
          "data": {
            "text/plain": [
              "array([[-3.24140214],\n",
              "       [ 1.1272942 ]])"
            ]
          },
          "metadata": {
            "tags": []
          },
          "execution_count": 155
        }
      ]
    },
    {
      "cell_type": "markdown",
      "metadata": {
        "id": "3aM35Z9j3G3_"
      },
      "source": [
        "Expected result: matrix([[-3.24140214,  1.1272942 ]]).\n",
        "\n",
        "Finally you can compute the cost (error) of the trained model using our fitted parameters."
      ]
    },
    {
      "cell_type": "code",
      "metadata": {
        "colab": {
          "base_uri": "https://localhost:8080/"
        },
        "id": "PcCWEH7W3G3_",
        "outputId": "eb83139b-be15-4918-976f-fbdccbaafae3"
      },
      "source": [
        "computeCost(X, t, w)"
      ],
      "execution_count": 159,
      "outputs": [
        {
          "output_type": "execute_result",
          "data": {
            "text/plain": [
              "array([4.5159555])"
            ]
          },
          "metadata": {
            "tags": []
          },
          "execution_count": 159
        }
      ]
    },
    {
      "cell_type": "markdown",
      "metadata": {
        "id": "Nacd7nrP3G4B"
      },
      "source": [
        "Expected result: 4.515955503078912.\n",
        "\n",
        "Now let's plot the linear model along with the data to visually see how well it fits."
      ]
    },
    {
      "cell_type": "code",
      "metadata": {
        "colab": {
          "base_uri": "https://localhost:8080/",
          "height": 476
        },
        "id": "lDZdQBVg3G4B",
        "outputId": "2f8350fc-ac3c-42d4-fae7-c11568b1f10a"
      },
      "source": [
        "#TODO: to complete\n",
        "x = np.linspace(data.Population.min(), data.Population.max(), 100)\n",
        "f = np.linspace(data.Profit.min(), data.Profit.max(), 100) ##### COMPLETE YOUR CODE HERE#####\n",
        "\n",
        "fig, ax = plt.subplots(figsize=(10,7))\n",
        "ax.plot(x, f, 'r', label='Prediction')\n",
        "ax.scatter(data.Population, data.Profit, label='Traning Data')\n",
        "ax.legend(loc=2)\n",
        "ax.set_xlabel('Population')\n",
        "ax.set_ylabel('Profit')\n",
        "ax.set_title('Predicted Profit vs. Population Size')"
      ],
      "execution_count": 158,
      "outputs": [
        {
          "output_type": "execute_result",
          "data": {
            "text/plain": [
              "Text(0.5, 1.0, 'Predicted Profit vs. Population Size')"
            ]
          },
          "metadata": {
            "tags": []
          },
          "execution_count": 158
        },
        {
          "output_type": "display_data",
          "data": {
            "image/png": "[encoded data removed]",
            "text/plain": [
              "<Figure size 720x504 with 1 Axes>"
            ]
          },
          "metadata": {
            "tags": [],
            "needs_background": "light"
          }
        }
      ]
    },
    {
      "cell_type": "markdown",
      "metadata": {
        "id": "vrHNXU1e3G4D"
      },
      "source": [
        "Looks pretty good!  Since the gradient decent function also outputs a vector with the cost at each training iteration, we can plot that as well.  Notice that the cost always decreases - this is an example of a convex optimization problem."
      ]
    },
    {
      "cell_type": "code",
      "metadata": {
        "colab": {
          "base_uri": "https://localhost:8080/",
          "height": 476
        },
        "id": "A50DLcRR3G4D",
        "outputId": "44ce2460-216b-4551-fb84-24cf6ccbb962"
      },
      "source": [
        "#TODO: plot the error vs. training epoch\n",
        "fig, ax = plt.subplots(figsize=(10,7))\n",
        "\n",
        "##### COMPLETE YOUR CODE HERE#####\n",
        "ax.plot(np.arange(iters), cost, 'r') #use np.arange(iters) to create an array ...\n",
        "ax.set_xlabel('Iterations')\n",
        "ax.set_ylabel('Cost')\n",
        "ax.set_title('Error vs. Training Epoch')\n"
      ],
      "execution_count": 164,
      "outputs": [
        {
          "output_type": "execute_result",
          "data": {
            "text/plain": [
              "Text(0.5, 1.0, 'Error vs. Training Epoch')"
            ]
          },
          "metadata": {
            "tags": []
          },
          "execution_count": 164
        },
        {
          "output_type": "display_data",
          "data": {
            "image/png": "[encoded data removed]",
            "text/plain": [
              "<Figure size 720x504 with 1 Axes>"
            ]
          },
          "metadata": {
            "tags": [],
            "needs_background": "light"
          }
        }
      ]
    },
    {
      "cell_type": "markdown",
      "metadata": {
        "id": "URbRfG7N3G4F"
      },
      "source": [
        "## Part 2: Linear regression with multiple variables"
      ]
    },
    {
      "cell_type": "markdown",
      "metadata": {
        "id": "76Qck8sj3G4F"
      },
      "source": [
        "This exercise also included a housing price data set with 2 variables (size of the house in square feet and number of bedrooms) and a target (price of the house).  Let's use the techniques we already applied to analyze that data set as well."
      ]
    },
    {
      "cell_type": "code",
      "metadata": {
        "colab": {
          "base_uri": "https://localhost:8080/"
        },
        "id": "1fEw_V-i5pqr",
        "outputId": "060960d7-297c-4f25-cab9-9ce394bedc33"
      },
      "source": [
        "!wget https://www.dropbox.com/s/5b5hnnnn8d4y2o5/ex1data2.txt?dl=0 \\\n",
        "   -O ex1data2.txt\n",
        "\n"
      ],
      "execution_count": 160,
      "outputs": [
        {
          "output_type": "stream",
          "text": [
            "--2021-03-01 10:54:32--  https://www.dropbox.com/s/5b5hnnnn8d4y2o5/ex1data2.txt?dl=0\n",
            "Resolving www.dropbox.com (www.dropbox.com)... 162.125.5.18, 2620:100:601d:18::a27d:512\n",
            "Connecting to www.dropbox.com (www.dropbox.com)|162.125.5.18|:443... connected.\n",
            "HTTP request sent, awaiting response... 301 Moved Permanently\n",
            "Location: /s/raw/5b5hnnnn8d4y2o5/ex1data2.txt [following]\n",
            "--2021-03-01 10:54:33--  https://www.dropbox.com/s/raw/5b5hnnnn8d4y2o5/ex1data2.txt\n",
            "Reusing existing connection to www.dropbox.com:443.\n",
            "HTTP request sent, awaiting response... 302 Found\n",
            "Location: https://ucabdde342067e42cd53dd2b9062.dl.dropboxusercontent.com/cd/0/inline/BJ3U_V53ZrBNlGBcZQKXoF0Dta0nYUhjhdEz5fHvsudwhJrALOEX_R9hprgKY0HFfIwRKKJHHb0D9SbVCFuPEkfRJkL83awEgsITLbcL2G9eGg/file# [following]\n",
            "--2021-03-01 10:54:33--  https://ucabdde342067e42cd53dd2b9062.dl.dropboxusercontent.com/cd/0/inline/BJ3U_V53ZrBNlGBcZQKXoF0Dta0nYUhjhdEz5fHvsudwhJrALOEX_R9hprgKY0HFfIwRKKJHHb0D9SbVCFuPEkfRJkL83awEgsITLbcL2G9eGg/file\n",
            "Resolving ucabdde342067e42cd53dd2b9062.dl.dropboxusercontent.com (ucabdde342067e42cd53dd2b9062.dl.dropboxusercontent.com)... 162.125.5.15, 2620:100:601d:15::a27d:50f\n",
            "Connecting to ucabdde342067e42cd53dd2b9062.dl.dropboxusercontent.com (ucabdde342067e42cd53dd2b9062.dl.dropboxusercontent.com)|162.125.5.15|:443... connected.\n",
            "HTTP request sent, awaiting response... 200 OK\n",
            "Length: 657 [text/plain]\n",
            "Saving to: ‘ex1data2.txt’\n",
            "\n",
            "ex1data2.txt        100%[===================>]     657  --.-KB/s    in 0s      \n",
            "\n",
            "2021-03-01 10:54:34 (138 MB/s) - ‘ex1data2.txt’ saved [657/657]\n",
            "\n"
          ],
          "name": "stdout"
        }
      ]
    },
    {
      "cell_type": "markdown",
      "metadata": {
        "id": "M2zGV3ctYy3s"
      },
      "source": [
        "The notebook will start by loading and displaying some values from this dataset. \n",
        "\n",
        "You then complete the code to:\n",
        "\n",
        "\t- Subtract the mean value of each feature from the dataset. \n",
        "\t\n",
        "\t- After subtracting the mean, additionally scale (divide) the feature values by their respective “standard deviations.” "
      ]
    },
    {
      "cell_type": "code",
      "metadata": {
        "colab": {
          "base_uri": "https://localhost:8080/",
          "height": 204
        },
        "id": "ecpcLdHC3G4F",
        "outputId": "5a5353b3-a140-46f4-a86f-fb5d5036bcdb"
      },
      "source": [
        "file = 'ex1data2.txt'\n",
        "data2 = pd.read_csv(file, header=None, names=['Size', 'Bedrooms', 'Price'])\n",
        "data2.head()"
      ],
      "execution_count": 161,
      "outputs": [
        {
          "output_type": "execute_result",
          "data": {
            "text/html": [
              "<div>\n",
              "<style scoped>\n",
              "    .dataframe tbody tr th:only-of-type {\n",
              "        vertical-align: middle;\n",
              "    }\n",
              "\n",
              "    .dataframe tbody tr th {\n",
              "        vertical-align: top;\n",
              "    }\n",
              "\n",
              "    .dataframe thead th {\n",
              "        text-align: right;\n",
              "    }\n",
              "</style>\n",
              "<table border=\"1\" class=\"dataframe\">\n",
              "  <thead>\n",
              "    <tr style=\"text-align: right;\">\n",
              "      <th></th>\n",
              "      <th>Size</th>\n",
              "      <th>Bedrooms</th>\n",
              "      <th>Price</th>\n",
              "    </tr>\n",
              "  </thead>\n",
              "  <tbody>\n",
              "    <tr>\n",
              "      <th>0</th>\n",
              "      <td>2104</td>\n",
              "      <td>3</td>\n",
              "      <td>399900</td>\n",
              "    </tr>\n",
              "    <tr>\n",
              "      <th>1</th>\n",
              "      <td>1600</td>\n",
              "      <td>3</td>\n",
              "      <td>329900</td>\n",
              "    </tr>\n",
              "    <tr>\n",
              "      <th>2</th>\n",
              "      <td>2400</td>\n",
              "      <td>3</td>\n",
              "      <td>369000</td>\n",
              "    </tr>\n",
              "    <tr>\n",
              "      <th>3</th>\n",
              "      <td>1416</td>\n",
              "      <td>2</td>\n",
              "      <td>232000</td>\n",
              "    </tr>\n",
              "    <tr>\n",
              "      <th>4</th>\n",
              "      <td>3000</td>\n",
              "      <td>4</td>\n",
              "      <td>539900</td>\n",
              "    </tr>\n",
              "  </tbody>\n",
              "</table>\n",
              "</div>"
            ],
            "text/plain": [
              "   Size  Bedrooms   Price\n",
              "0  2104         3  399900\n",
              "1  1600         3  329900\n",
              "2  2400         3  369000\n",
              "3  1416         2  232000\n",
              "4  3000         4  539900"
            ]
          },
          "metadata": {
            "tags": []
          },
          "execution_count": 161
        }
      ]
    },
    {
      "cell_type": "markdown",
      "metadata": {
        "id": "Vme4uUWR3G4H"
      },
      "source": [
        "<font color='red'>Exercise: add another pre-processing step - normalizing the features. </font>\n",
        "\n",
        "<font color='red'>Question: why is it necessary?  </font>\n",
        "\n",
        "\n",
        "\t"
      ]
    },
    {
      "cell_type": "code",
      "metadata": {
        "colab": {
          "base_uri": "https://localhost:8080/",
          "height": 209
        },
        "id": "HVLLE_iO3G4H",
        "outputId": "c3229954-b5a8-44d8-f697-14aaef2449fc"
      },
      "source": [
        "##TODO, normalize your features\n",
        "data2 = ...##### COMPLETE YOUR CODE HERE#####\n",
        "\n",
        "\n",
        "#Now show the normalized data\n",
        "data2.head()"
      ],
      "execution_count": 162,
      "outputs": [
        {
          "output_type": "error",
          "ename": "AttributeError",
          "evalue": "ignored",
          "traceback": [
            "\u001b[0;31m---------------------------------------------------------------------------\u001b[0m",
            "\u001b[0;31mAttributeError\u001b[0m                            Traceback (most recent call last)",
            "\u001b[0;32m<ipython-input-162-da26fa7729f2>\u001b[0m in \u001b[0;36m<module>\u001b[0;34m()\u001b[0m\n\u001b[1;32m      4\u001b[0m \u001b[0;34m\u001b[0m\u001b[0m\n\u001b[1;32m      5\u001b[0m \u001b[0;31m#Now show the normalized data\u001b[0m\u001b[0;34m\u001b[0m\u001b[0;34m\u001b[0m\u001b[0;34m\u001b[0m\u001b[0m\n\u001b[0;32m----> 6\u001b[0;31m \u001b[0mdata2\u001b[0m\u001b[0;34m.\u001b[0m\u001b[0mhead\u001b[0m\u001b[0;34m(\u001b[0m\u001b[0;34m)\u001b[0m\u001b[0;34m\u001b[0m\u001b[0;34m\u001b[0m\u001b[0m\n\u001b[0m",
            "\u001b[0;31mAttributeError\u001b[0m: 'ellipsis' object has no attribute 'head'"
          ]
        }
      ]
    },
    {
      "cell_type": "markdown",
      "metadata": {
        "id": "gwQSSNBs3G4I"
      },
      "source": [
        "Now let's repeat our pre-processing steps from part 1 and run the linear regression procedure on the new data set."
      ]
    },
    {
      "cell_type": "code",
      "metadata": {
        "id": "xHUS4R2W3G4J"
      },
      "source": [
        "eta=0.01\n",
        "\n",
        "# add ones column\n",
        "data2.insert... ##### COMPLETE YOUR CODE HERE#####\n",
        "\n",
        "# set X (training data) and t (target variable)\n",
        "cols = data2.shape[1]\n",
        "X2 = data2.iloc...##### COMPLETE YOUR CODE HERE#####\n",
        "t2 = ...##### COMPLETE YOUR CODE HERE#####\n",
        "\n",
        "# convert to matrices/array\n",
        "X2 = ....##### COMPLETE YOUR CODE HERE#####\n",
        "t2 = ....##### COMPLETE YOUR CODE HERE#####\n",
        "\n",
        "# initialize w\n",
        "# TODO: what is shape of w? why?\n",
        "# ..........................\n",
        "w2 = ....##### COMPLETE YOUR CODE HERE#####\n",
        "\n",
        "# perform linear regression on the data set\n",
        "w2, cost2 = gradientDescent(X2, t2, w2, eta, iters)\n",
        "\n",
        "# get the cost (error) of the model\n",
        "computeCost(X2, t2, w2)"
      ],
      "execution_count": null,
      "outputs": []
    },
    {
      "cell_type": "markdown",
      "metadata": {
        "id": "5gqCfug_3G4K"
      },
      "source": [
        "We can take a quick look at the training progess for this one as well."
      ]
    },
    {
      "cell_type": "code",
      "metadata": {
        "id": "jD4p00ad3G4K"
      },
      "source": [
        "#TODO: plot the error vs. training epoch\n",
        "fig, ax = plt.subplots(figsize=(10,7))\n",
        "ax.plot(np.arange(iters), cost, 'r')\n",
        "ax.set_xlabel('Iterations')\n",
        "ax.set_ylabel('Cost')\n",
        "ax.set_title('Error vs. Training Epoch')"
      ],
      "execution_count": null,
      "outputs": []
    },
    {
      "cell_type": "markdown",
      "metadata": {
        "id": "ABGlF92f3G4M"
      },
      "source": [
        "<font color='red'>Question: What can you see from this figure ?</font>\n",
        "\n",
        "Answer: ....\n",
        "\n",
        "\n",
        "\n",
        "<font color='red'>Exercise: Try out different learning rates for the dataset and find a learning rate that converges quickly.</font>"
      ]
    },
    {
      "cell_type": "code",
      "metadata": {
        "id": "BeesGz5D3G4M"
      },
      "source": [
        "###WRITE YOUR CODE HERE\n",
        "...."
      ],
      "execution_count": null,
      "outputs": []
    },
    {
      "cell_type": "code",
      "metadata": {
        "id": "g8ZRHmyT3G4N"
      },
      "source": [
        ""
      ],
      "execution_count": null,
      "outputs": []
    },
    {
      "cell_type": "markdown",
      "metadata": {
        "id": "A00bNFRK3G4N"
      },
      "source": [
        "Instead of implementing these algorithms from scratch, we could also use scikit-learn's linear regression function.  Let's apply scikit-learn's linear regressio algorithm to the data from part 1 and see what it comes up with."
      ]
    },
    {
      "cell_type": "code",
      "metadata": {
        "id": "rIQP8VcI3G4O"
      },
      "source": [
        "from sklearn import linear_model\n",
        "model = linear_model.LinearRegression()\n",
        "model.fit(X, t)"
      ],
      "execution_count": null,
      "outputs": []
    },
    {
      "cell_type": "markdown",
      "metadata": {
        "id": "NrtpXtTG3G4P"
      },
      "source": [
        "Here's what the scikit-learn model's predictions look like."
      ]
    },
    {
      "cell_type": "code",
      "metadata": {
        "id": "865TqlLt3G4P"
      },
      "source": [
        "x = np.array(X[:, 1])\n",
        "f = model.predict(X).flatten()\n",
        "\n",
        "fig, ax = plt.subplots(figsize=(10,7))\n",
        "ax.plot(x, f, 'r', label='Prediction')\n",
        "ax.scatter(data.Population, data.Profit, label='Traning Data')\n",
        "ax.legend(loc=2)\n",
        "ax.set_xlabel('Population')\n",
        "ax.set_ylabel('Profit')\n",
        "ax.set_title('Predicted Profit vs. Population Size')"
      ],
      "execution_count": null,
      "outputs": []
    },
    {
      "cell_type": "markdown",
      "metadata": {
        "id": "iblDVWp83G4Q"
      },
      "source": [
        "You can submit now your code via Moodle.\n",
        "Do not forget to answer the questions!!!"
      ]
    }
  ]
}